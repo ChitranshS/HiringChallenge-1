{
  "cells": [
    {
      "cell_type": "markdown",
      "metadata": {
        "id": "view-in-github",
        "colab_type": "text"
      },
      "source": [
        "<a href=\"https://colab.research.google.com/github/ChitranshS/HiringChallenge-1/blob/main/Hiring_Challenge.ipynb\" target=\"_parent\"><img src=\"https://colab.research.google.com/assets/colab-badge.svg\" alt=\"Open In Colab\"/></a>"
      ]
    },
    {
      "cell_type": "code",
      "execution_count": 1,
      "metadata": {
        "cellView": "form",
        "id": "aP9FjmWxtLKJ",
        "outputId": "d5a0a1af-23e8-486a-93bf-feccb7cbfab2",
        "colab": {
          "base_uri": "https://localhost:8080/"
        }
      },
      "outputs": [
        {
          "output_type": "stream",
          "name": "stdout",
          "text": [
            "GPU 0: Tesla T4 (UUID: GPU-b47b48ef-e201-9a56-1ef3-cc0e53420212)\n"
          ]
        }
      ],
      "source": [
        "#@title Check GPU\n",
        "!nvidia-smi -L"
      ]
    },
    {
      "cell_type": "code",
      "execution_count": null,
      "metadata": {
        "id": "xpPKQR40qvz2"
      },
      "outputs": [],
      "source": [
        "#@title Setup\n",
        "import os, subprocess\n",
        "\n",
        "def setup():\n",
        "    install_cmds = [\n",
        "        ['pip', 'install', 'gradio'],\n",
        "        ['pip', 'install', 'open_clip_torch'],\n",
        "        ['pip', 'install', 'clip-interrogator'],\n",
        "        ['pip', 'install', 'together'],\n",
        "        ['pip','install','gradio_client']\n",
        "    ]\n",
        "    for cmd in install_cmds:\n",
        "        print(subprocess.run(cmd, stdout=subprocess.PIPE).stdout.decode('utf-8'))\n",
        "\n",
        "setup()\n",
        "\n",
        "import gradio as gr\n",
        "from clip_interrogator import Config, Interrogator\n",
        "\n",
        "config = Config()\n",
        "config.clip_model_name = 'ViT-H-14/laion2b_s32b_b79k'\n",
        "config.caption_model_name = 'blip-large'\n",
        "ci = Interrogator(config)\n",
        "\n",
        "\n",
        "def image_to_prompt(image):\n",
        "    ci.config.chunk_size =1024\n",
        "    ci.config.flavor_intermediate_count =1024\n",
        "    image = image.convert('RGB')\n",
        "    mode = 'fast'\n",
        "    generated_prompt = ci.interrogate_fast(image)\n",
        "    return generated_prompt\n",
        "\n",
        "\n"
      ]
    },
    {
      "cell_type": "code",
      "execution_count": null,
      "metadata": {
        "id": "Pf6qkFG6MPRj"
      },
      "outputs": [],
      "source": [
        "import gradio as gr\n",
        "\n",
        "def prompt_tab():\n",
        "    global stored_prompt  # Declare the stored_prompt variable as global\n",
        "\n",
        "    with gr.Column():\n",
        "        with gr.Row():\n",
        "            print(1)\n",
        "            image = gr.Image(type='pil', label=\"Image\")\n",
        "            print(2)\n",
        "        prompt = gr.Textbox(label=\"Prompt\")\n",
        "        print(3)\n",
        "        button = gr.Button(\"Generate prompt\")\n",
        "        print(4)\n",
        "        button.click(image_to_prompt, inputs=[image], outputs=[prompt])\n",
        "        print(5)\n",
        "\n",
        "            # Store the prompt value after rendering\n",
        "        prompt.change(update_stored_prompt, inputs=[prompt], outputs=[])\n",
        "\n",
        "\n",
        "def update_stored_prompt(prompt):\n",
        "    global stored_prompt\n",
        "    stored_prompt = prompt  # Assign the prompt value to the stored_prompt variable\n",
        "\n",
        "with gr.Blocks() as ui:\n",
        "    with gr.Tab(\"Prompt\"):\n",
        "        stored_prompt = \"\"  # Initialize the stored_prompt variable\n",
        "        prompt_tab()\n",
        "    ui.launch()\n"
      ]
    },
    {
      "cell_type": "code",
      "execution_count": 32,
      "metadata": {
        "id": "OGmvkzITN4Hz"
      },
      "outputs": [],
      "source": [
        "stored_prompt = \"a pair of headphones on a black background, wearing modern headphone, mars black, sennheiser, giant headphones rocking out, concept art-h 640, official product image, headset, headphones, headphones dj rave, - h 6 4 0, -h 640, wearing headset, bronze headset, product image, highly detailed-h 704\""
      ]
    },
    {
      "cell_type": "code",
      "source": [
        "# !pip install together"
      ],
      "metadata": {
        "colab": {
          "base_uri": "https://localhost:8080/"
        },
        "id": "HtLwdorWAKXb",
        "outputId": "563464ef-7817-4880-9dde-b417cefc54fe"
      },
      "execution_count": 10,
      "outputs": [
        {
          "output_type": "stream",
          "name": "stdout",
          "text": [
            "Requirement already satisfied: together in /usr/local/lib/python3.10/dist-packages (1.1.2)\n",
            "Requirement already satisfied: aiohttp<4.0.0,>=3.9.3 in /usr/local/lib/python3.10/dist-packages (from together) (3.9.5)\n",
            "Requirement already satisfied: click<9.0.0,>=8.1.7 in /usr/local/lib/python3.10/dist-packages (from together) (8.1.7)\n",
            "Requirement already satisfied: eval-type-backport<0.2.0,>=0.1.3 in /usr/local/lib/python3.10/dist-packages (from together) (0.1.3)\n",
            "Requirement already satisfied: filelock<4.0.0,>=3.13.1 in /usr/local/lib/python3.10/dist-packages (from together) (3.13.4)\n",
            "Requirement already satisfied: numpy>=1.23.5 in /usr/local/lib/python3.10/dist-packages (from together) (1.25.2)\n",
            "Requirement already satisfied: pillow<11.0.0,>=10.3.0 in /usr/local/lib/python3.10/dist-packages (from together) (10.3.0)\n",
            "Requirement already satisfied: pyarrow>=10.0.1 in /usr/local/lib/python3.10/dist-packages (from together) (14.0.2)\n",
            "Requirement already satisfied: pydantic<3.0.0,>=2.6.3 in /usr/local/lib/python3.10/dist-packages (from together) (2.7.0)\n",
            "Requirement already satisfied: requests<3.0.0,>=2.31.0 in /usr/local/lib/python3.10/dist-packages (from together) (2.31.0)\n",
            "Requirement already satisfied: tabulate<0.10.0,>=0.9.0 in /usr/local/lib/python3.10/dist-packages (from together) (0.9.0)\n",
            "Requirement already satisfied: tqdm<5.0.0,>=4.66.2 in /usr/local/lib/python3.10/dist-packages (from together) (4.66.2)\n",
            "Requirement already satisfied: typer<0.13,>=0.9 in /usr/local/lib/python3.10/dist-packages (from together) (0.9.4)\n",
            "Requirement already satisfied: aiosignal>=1.1.2 in /usr/local/lib/python3.10/dist-packages (from aiohttp<4.0.0,>=3.9.3->together) (1.3.1)\n",
            "Requirement already satisfied: attrs>=17.3.0 in /usr/local/lib/python3.10/dist-packages (from aiohttp<4.0.0,>=3.9.3->together) (23.2.0)\n",
            "Requirement already satisfied: frozenlist>=1.1.1 in /usr/local/lib/python3.10/dist-packages (from aiohttp<4.0.0,>=3.9.3->together) (1.4.1)\n",
            "Requirement already satisfied: multidict<7.0,>=4.5 in /usr/local/lib/python3.10/dist-packages (from aiohttp<4.0.0,>=3.9.3->together) (6.0.5)\n",
            "Requirement already satisfied: yarl<2.0,>=1.0 in /usr/local/lib/python3.10/dist-packages (from aiohttp<4.0.0,>=3.9.3->together) (1.9.4)\n",
            "Requirement already satisfied: async-timeout<5.0,>=4.0 in /usr/local/lib/python3.10/dist-packages (from aiohttp<4.0.0,>=3.9.3->together) (4.0.3)\n",
            "Requirement already satisfied: annotated-types>=0.4.0 in /usr/local/lib/python3.10/dist-packages (from pydantic<3.0.0,>=2.6.3->together) (0.6.0)\n",
            "Requirement already satisfied: pydantic-core==2.18.1 in /usr/local/lib/python3.10/dist-packages (from pydantic<3.0.0,>=2.6.3->together) (2.18.1)\n",
            "Requirement already satisfied: typing-extensions>=4.6.1 in /usr/local/lib/python3.10/dist-packages (from pydantic<3.0.0,>=2.6.3->together) (4.11.0)\n",
            "Requirement already satisfied: charset-normalizer<4,>=2 in /usr/local/lib/python3.10/dist-packages (from requests<3.0.0,>=2.31.0->together) (3.3.2)\n",
            "Requirement already satisfied: idna<4,>=2.5 in /usr/local/lib/python3.10/dist-packages (from requests<3.0.0,>=2.31.0->together) (3.7)\n",
            "Requirement already satisfied: urllib3<3,>=1.21.1 in /usr/local/lib/python3.10/dist-packages (from requests<3.0.0,>=2.31.0->together) (2.0.7)\n",
            "Requirement already satisfied: certifi>=2017.4.17 in /usr/local/lib/python3.10/dist-packages (from requests<3.0.0,>=2.31.0->together) (2024.2.2)\n"
          ]
        }
      ]
    },
    {
      "cell_type": "code",
      "source": [
        "import os\n",
        "import together\n",
        "\n",
        "together.api_key = \"492d06035d1fb29fc36b26ba45d4746734b41f077027213f2b73bf7bee5a64d3\"\n",
        "response = together.Complete.create(\n",
        "    model=\"meta-llama/Llama-3-70b-chat-hf\",\n",
        "    prompt=f\"\"\"Generate a prompt in paragraphs for creating a background environment without the use of \\n or markdown.The product is described as follows:{stored_prompt}. The environment should complement the features and use case of the product, enhancing its appeal in a visually compelling manner. Please include specifics like the\n",
        "setting, mood, key elements, and any thematic details that align with the product's branding and target audience.You have to send it so that it only has text and return to an api call so don't include \\n etc\"\"\",\n",
        "    temperature = 0.7,\n",
        "    top_k = 50,\n",
        "    top_p = 0.7,\n",
        "    repetition_penalty = 1\n",
        ")\n",
        "print(response)\n"
      ],
      "metadata": {
        "colab": {
          "base_uri": "https://localhost:8080/"
        },
        "id": "pqSUyV0clJvd",
        "outputId": "13627145-826f-49ff-bced-b8c12878624a"
      },
      "execution_count": 33,
      "outputs": [
        {
          "output_type": "stream",
          "name": "stderr",
          "text": [
            "<ipython-input-33-20fdcd4d4cfb>:5: DeprecationWarning: Call to deprecated function create.\n",
            "  response = together.Complete.create(\n",
            "/usr/local/lib/python3.10/dist-packages/together/legacy/complete.py:23: UserWarning: The use of together.api_key is deprecated and will be removed in the next major release. Please set the TOGETHER_API_KEY environment variable instead.\n",
            "  warnings.warn(API_KEY_WARNING)\n"
          ]
        },
        {
          "output_type": "stream",
          "name": "stdout",
          "text": [
            "{'id': '879fbd715f1b7ba8-ATL', 'object': <ObjectType.Completion: 'text.completion'>, 'created': 1714062874, 'model': 'meta-llama/Llama-3-70b-chat-hf', 'choices': [{'index': 0, 'logprobs': None, 'finish_reason': <FinishReason.Length: 'length'>, 'text': \".\\n\\nHere is a prompt:\\n\\nCreate a background environment that complements the features and use case of a pair of modern headphones, specifically the Sennheiser brand, without using markdown or HTML. The environment should enhance the product's appeal in a visually compelling manner. \\n\\nThe setting is a dimly lit, intimate music studio with a dark, muted color palette. The mood is energetic and creative, evoking a sense of artistic expression. Key elements include a sleek, modern desk with a few scattered music sheets, a microphone, and a laptop. The walls are adorned with inspirational quotes and music-inspired artwork. \\n\\nThematic details that align with the product's branding and target audience include a subtle, neon-lit cityscape visible through a window, symbolizing the connection between music and urban culture. The overall atmosphere is one of focused creativity, with the headphones taking center stage as the tool that helps artists bring their vision to life.assistant\\n\\nHere is the prompt:\\n\\nCreate a background environment that complements the features and use case of a pair of modern headphones, specifically the Sennheiser brand. The environment should enhance the product's appeal in a visually compelling manner.\\n\\nThe setting is a dimly lit, intimate music studio with a dark, muted color palette. The mood is energetic and creative, evoking a sense of artistic expression. Key elements include a sleek, modern desk with a few scattered music sheets, a microphone, and a laptop. The walls are adorned with inspirational quotes and music-inspired artwork.\\n\\nThematic details that align with the product's branding and target audience include a subtle, neon-lit cityscape visible through a window, symbolizing the connection between music and urban culture. The overall atmosphere is one of focused creativity, with the headphones taking center stage as the tool that helps artists bring their vision to life.assistant\\n\\nHere is the revised prompt:\\n\\nCreate a background environment that complements the features and use case of a pair of modern headphones, specifically the Sennheiser brand. The environment should enhance the product's appeal in a visually compelling manner.\\n\\nThe setting is a dimly lit intimate music studio with a dark muted color palette. The mood is energetic and creative evoking a sense of artistic expression. Key elements include a sleek modern desk with a few scattered music sheets a microphone and a laptop. The walls are adorned with inspirational quotes and music-inspired artwork.\\n\\nThematic details that align with the product's branding and target audience include a subtle neon-lit cityscape visible through a window symbolizing\"}], 'prompt': [], 'usage': {'prompt_tokens': 168, 'completion_tokens': 512, 'total_tokens': 680}}\n"
          ]
        }
      ]
    },
    {
      "cell_type": "code",
      "source": [
        "generation_prompt = response['choices'][0]\n"
      ],
      "metadata": {
        "id": "dzWaa8hq4nWD"
      },
      "execution_count": 34,
      "outputs": []
    },
    {
      "cell_type": "code",
      "source": [
        "# !pip install gradio_client"
      ],
      "metadata": {
        "colab": {
          "base_uri": "https://localhost:8080/"
        },
        "id": "WO-Ngn9V_WTP",
        "outputId": "3f1e199f-e259-44b3-9298-3d344467f479"
      },
      "execution_count": 13,
      "outputs": [
        {
          "output_type": "stream",
          "name": "stdout",
          "text": [
            "Requirement already satisfied: gradio_client in /usr/local/lib/python3.10/dist-packages (0.15.1)\n",
            "Requirement already satisfied: fsspec in /usr/local/lib/python3.10/dist-packages (from gradio_client) (2023.6.0)\n",
            "Requirement already satisfied: httpx>=0.24.1 in /usr/local/lib/python3.10/dist-packages (from gradio_client) (0.27.0)\n",
            "Requirement already satisfied: huggingface-hub>=0.19.3 in /usr/local/lib/python3.10/dist-packages (from gradio_client) (0.20.3)\n",
            "Requirement already satisfied: packaging in /usr/local/lib/python3.10/dist-packages (from gradio_client) (24.0)\n",
            "Requirement already satisfied: typing-extensions~=4.0 in /usr/local/lib/python3.10/dist-packages (from gradio_client) (4.11.0)\n",
            "Requirement already satisfied: websockets<12.0,>=10.0 in /usr/local/lib/python3.10/dist-packages (from gradio_client) (11.0.3)\n",
            "Requirement already satisfied: anyio in /usr/local/lib/python3.10/dist-packages (from httpx>=0.24.1->gradio_client) (3.7.1)\n",
            "Requirement already satisfied: certifi in /usr/local/lib/python3.10/dist-packages (from httpx>=0.24.1->gradio_client) (2024.2.2)\n",
            "Requirement already satisfied: httpcore==1.* in /usr/local/lib/python3.10/dist-packages (from httpx>=0.24.1->gradio_client) (1.0.5)\n",
            "Requirement already satisfied: idna in /usr/local/lib/python3.10/dist-packages (from httpx>=0.24.1->gradio_client) (3.7)\n",
            "Requirement already satisfied: sniffio in /usr/local/lib/python3.10/dist-packages (from httpx>=0.24.1->gradio_client) (1.3.1)\n",
            "Requirement already satisfied: h11<0.15,>=0.13 in /usr/local/lib/python3.10/dist-packages (from httpcore==1.*->httpx>=0.24.1->gradio_client) (0.14.0)\n",
            "Requirement already satisfied: filelock in /usr/local/lib/python3.10/dist-packages (from huggingface-hub>=0.19.3->gradio_client) (3.13.4)\n",
            "Requirement already satisfied: requests in /usr/local/lib/python3.10/dist-packages (from huggingface-hub>=0.19.3->gradio_client) (2.31.0)\n",
            "Requirement already satisfied: tqdm>=4.42.1 in /usr/local/lib/python3.10/dist-packages (from huggingface-hub>=0.19.3->gradio_client) (4.66.2)\n",
            "Requirement already satisfied: pyyaml>=5.1 in /usr/local/lib/python3.10/dist-packages (from huggingface-hub>=0.19.3->gradio_client) (6.0.1)\n",
            "Requirement already satisfied: exceptiongroup in /usr/local/lib/python3.10/dist-packages (from anyio->httpx>=0.24.1->gradio_client) (1.2.1)\n",
            "Requirement already satisfied: charset-normalizer<4,>=2 in /usr/local/lib/python3.10/dist-packages (from requests->huggingface-hub>=0.19.3->gradio_client) (3.3.2)\n",
            "Requirement already satisfied: urllib3<3,>=1.21.1 in /usr/local/lib/python3.10/dist-packages (from requests->huggingface-hub>=0.19.3->gradio_client) (2.0.7)\n"
          ]
        }
      ]
    },
    {
      "cell_type": "code",
      "source": [
        "from gradio_client import Client\n",
        "\n",
        "client = Client(\"https://hysts-controlnet-v1-1.hf.space/\")\n",
        "result = client.predict(\n",
        "\t\t\"./123123.jpg\",\t# str (filepath on your computer (or URL) of image) in 'parameter_8' Image component\n",
        "\t\tgeneration_prompt,\t# str  in 'Prompt' Textbox component\n",
        "\t\t\"best quality, extremely detailed\",\t# str  in 'Additional prompt' Textbox component\n",
        "\t\t\"longbody, lowres, bad anatomy, bad hands, missing fingers, extra digit, fewer digits, cropped, worst quality, low quality\",\t# str  in 'Negative prompt' Textbox component\n",
        "\t\t1,\t# int | float (numeric value between 1 and 1) in 'Number of images' Slider component\n",
        "\t\t768,\t# int | float (numeric value between 256 and 768) in 'Image resolution' Slider component\n",
        "\t\t20,\t# int | float (numeric value between 1 and 100) in 'Number of steps' Slider component\n",
        "\t\t12,\t# int | float (numeric value between 0.1 and 30.0) in 'Guidance scale' Slider component\n",
        "\t\t0,\t# int | float (numeric value between 0 and 2147483647) in 'Seed' Slider component\n",
        "\t\t100,\t# int | float (numeric value between 1 and 255) in 'Canny low threshold' Slider component\n",
        "\t\t200,\t# int | float (numeric value between 1 and 255) in 'Canny high threshold' Slider component\n",
        "\t\tapi_name=\"/canny\"\n",
        ")\n",
        "print(result)"
      ],
      "metadata": {
        "colab": {
          "base_uri": "https://localhost:8080/"
        },
        "id": "jVrMKZzL5i0u",
        "outputId": "45cde672-21cf-4203-dd67-c40f630648c9"
      },
      "execution_count": 35,
      "outputs": [
        {
          "output_type": "stream",
          "name": "stdout",
          "text": [
            "Loaded as API: https://hysts-controlnet-v1-1.hf.space/ ✔\n",
            "/tmp/gradio/213e9684-a9d3-4ab8-92c9-a94409d767b2\n"
          ]
        }
      ]
    },
    {
      "cell_type": "code",
      "source": [
        "from PIL import Image\n",
        "\n",
        "# Load the image\n",
        "image = Image.open('../content/input.png')\n",
        "\n",
        "# Specify the new dimensions\n",
        "new_width = 512\n",
        "new_height = 512\n",
        "\n",
        "# Resize the image\n",
        "resized_image = image.resize((new_width, new_height), Image.LANCZOS)\n",
        "\n",
        "# Save the resized image\n",
        "resized_image.save('resized_image1.png')\n",
        "\n",
        "# Display the resized image (optional)\n",
        "resized_image.show()\n"
      ],
      "metadata": {
        "id": "JmheT_fCF4Io"
      },
      "execution_count": 36,
      "outputs": []
    },
    {
      "cell_type": "code",
      "source": [
        "import os\n",
        "for dirpath, dirnames, filenames in os.walk(result):\n",
        "  if dirnames:\n",
        "   directories = dirnames\n",
        "   break\n",
        "result"
      ],
      "metadata": {
        "id": "3y6JRMoUJGys"
      },
      "execution_count": null,
      "outputs": []
    },
    {
      "cell_type": "code",
      "source": [
        "from PIL import Image\n",
        "\n",
        "# Open the background and overlay images\n",
        "background1 = Image.open(f'../tmp/gradio/c9e88903-0e15-41ce-836c-76c98d0c3d62/555f96d11f7ea45d54e42ad1d1c820c993a70f1f/image.png')\n",
        "background2 = Image.open(f'../{result}/{directories[1]}/image.png')\n",
        "overlay = Image.open('../content/resized_image1.png')\n",
        "\n",
        "# You might need to resize the overlay or use it as is, depending on the need\n",
        "# For example, resize overlay to match background's size\n",
        "# overlay = overlay.resize(background.size, Image.ANTIALIAS)\n",
        "print(\"Background mode:\", background1.mode)\n",
        "print(\"Overlay mode:\", overlay.mode)\n",
        "# Position the overlay at the desired position (top-left corner in this example)\n",
        "# You can change (0, 0) to whatever coordinates you want\n",
        "position = (0, 0)  # Position can be changed based on where you want to place the overlay\n",
        "if background1.mode != 'RGBA':\n",
        "    background = background1.convert('RGBA')\n",
        "if background2.mode != 'RGBA':\n",
        "    background = background2.convert('RGBA')\n",
        "if overlay.mode != 'RGBA':\n",
        "    overlay = overlay.convert('RGBA')\n",
        "# Assuming both images are now RGBA\n",
        "# Extract the alpha channel from the overlay\n",
        "alpha_mask = overlay.split()[3]\n",
        "\n",
        "# Paste the overlay using the alpha channel as a mask\n",
        "background1.paste(overlay, (0, 0), alpha_mask)  # Adjust position as needed\n",
        "\n",
        "# Save or show the result\n",
        "background1.save('output_image11.png')  # Save as PNG to preserve transparency in the output\n",
        "background1.show()\n",
        "\n",
        "background2.paste(overlay, (0, 0), alpha_mask)  # Adjust position as needed\n",
        "\n",
        "# Save or show the result\n",
        "background2.save('output_image2.png')  # Save as PNG to preserve transparency in the output\n",
        "background2.show()"
      ],
      "metadata": {
        "colab": {
          "base_uri": "https://localhost:8080/"
        },
        "id": "k520KejN_hI6",
        "outputId": "63cd299d-8450-4b5d-e277-3eede2c381c3"
      },
      "execution_count": 55,
      "outputs": [
        {
          "output_type": "stream",
          "name": "stdout",
          "text": [
            "Background mode: RGB\n",
            "Overlay mode: RGBA\n"
          ]
        }
      ]
    },
    {
      "cell_type": "code",
      "source": [],
      "metadata": {
        "colab": {
          "base_uri": "https://localhost:8080/",
          "height": 37
        },
        "id": "c5QZkOoGDC84",
        "outputId": "ee649b53-4f6b-41d1-a32b-ae003a68c745"
      },
      "execution_count": 52,
      "outputs": [
        {
          "output_type": "execute_result",
          "data": {
            "text/plain": [
              "'/tmp/gradio/213e9684-a9d3-4ab8-92c9-a94409d767b2'"
            ],
            "application/vnd.google.colaboratory.intrinsic+json": {
              "type": "string"
            }
          },
          "metadata": {},
          "execution_count": 52
        }
      ]
    },
    {
      "cell_type": "code",
      "source": [],
      "metadata": {
        "id": "U4X-d8oREcC5"
      },
      "execution_count": null,
      "outputs": []
    }
  ],
  "metadata": {
    "accelerator": "GPU",
    "colab": {
      "provenance": [],
      "gpuType": "T4",
      "include_colab_link": true
    },
    "kernelspec": {
      "display_name": "Python 3",
      "name": "python3"
    },
    "language_info": {
      "codemirror_mode": {
        "name": "ipython",
        "version": 3
      },
      "file_extension": ".py",
      "mimetype": "text/x-python",
      "name": "python",
      "nbconvert_exporter": "python",
      "pygments_lexer": "ipython3",
      "version": "3.9.5"
    },
    "orig_nbformat": 4,
    "vscode": {
      "interpreter": {
        "hash": "1f51d5616d3bc2b87a82685314c5be1ec9a49b6e0cb1f707bfa2acb6c45f3e5f"
      }
    }
  },
  "nbformat": 4,
  "nbformat_minor": 0
}